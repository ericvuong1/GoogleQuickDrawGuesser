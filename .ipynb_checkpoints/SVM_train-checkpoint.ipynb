{
 "cells": [
  {
   "cell_type": "code",
   "execution_count": 1,
   "metadata": {},
   "outputs": [
    {
     "name": "stderr",
     "output_type": "stream",
     "text": [
      "Using TensorFlow backend.\n"
     ]
    }
   ],
   "source": [
    "import numpy as np # linear algebra\n",
    "import json\n",
    "from matplotlib import pyplot as plt\n",
    "from skimage import color\n",
    "from skimage.feature import hog\n",
    "from sklearn import svm\n",
    "from sklearn.metrics import classification_report,accuracy_score\n",
    "from sklearn.svm import LinearSVC\n",
    "import numpy as np\n",
    "import pandas as pd \n",
    "import matplotlib.pyplot as plt\n",
    "from keras.utils import to_categorical\n",
    "import math\n",
    "\n",
    "import cv2 \n",
    "from PIL import Image\n",
    "\n",
    "import multiprocessing\n",
    "from multiprocessing.pool import ThreadPool\n",
    "\n",
    "from sklearn.model_selection import train_test_split\n",
    "\n",
    "from sklearn.preprocessing import LabelBinarizer\n"
   ]
  },
  {
   "cell_type": "code",
   "execution_count": 2,
   "metadata": {},
   "outputs": [],
   "source": [
    "def preprocess(image, cutoff=127, maxContours=5):\n",
    "    image = np.uint8(image)\n",
    "    nb_components, output, stats, centroids = cv2.connectedComponentsWithStats(image,connectivity = 4)\n",
    "    sizes = stats[:,-1]\n",
    "    max_label = 1\n",
    "    max_size = sizes[1]\n",
    "    for i in range(2,nb_components):\n",
    "        if sizes[i] > max_size:\n",
    "            max_label = i\n",
    "            max_size = sizes[i]\n",
    "    img = np.zeros(output.shape)\n",
    "    img[output == max_label] = 255\n",
    "    return img\n",
    "\n",
    "def preProcessImage(image, cutoff=127, maxContours=10):\n",
    "    image = np.uint8(image)\n",
    "    im = np.uint8(image)\n",
    "    red, thresh = cv2.threshold(im, cutoff, 255, 0)\n",
    "    im2, contours, hierarchy= cv2.findContours(thresh, cv2.RETR_LIST, cv2.CHAIN_APPROX_SIMPLE)\n",
    "    mask = np.zeros(im.shape, np.uint8)\n",
    "    largest_contours = sorted(contours, key=cv2.contourArea, reverse=True)\n",
    "    for ind, contour in enumerate(largest_contours[:5]):\n",
    "        x, y, w, h = cv2.boundingRect(contour)\n",
    "        mask[y:y+h, x:x+w] = 255    \n",
    "    filteredImage = cv2.bitwise_and(thresh, thresh, mask=mask)\n",
    "    return filteredImage.reshape((image.shape))\n",
    "\n",
    "def rmEmpty(img):\n",
    "    nb_components, output, stats, centroids = cv2.connectedComponentsWithStats(img, connectivity=8)\n",
    "    sizes = stats[1:, -1]; nb_components = nb_components - 1\n",
    "    min_size = 50\n",
    "    img2 = np.zeros((output.shape))\n",
    "    for i in range(0, nb_components):\n",
    "        if sizes[i] >= min_size:\n",
    "            img2[output == i + 1] = 255\n",
    "    return img2\n",
    "\n",
    "def f1_svc(X,y,test_X,test_y,int_scal,maxIteration,ran_state,tolerence):\n",
    "    clf = LinearSVC(intercept_scaling=int_scal,max_iter=maxIteration,random_state=ran_state, tol=tolerence)\n",
    "    clf.fit( X,y )\n",
    "    prediction = []\n",
    "    for i in range(len(test_X)):\n",
    "        predict = clf.predict([test_X[i]])[0]\n",
    "        prediction.append(predict)\n",
    "    true = 0\n",
    "    for i in range(len(test_y)):\n",
    "        if(prediction[i]==test_y[i]):\n",
    "            true += 1\n",
    "    return true"
   ]
  },
  {
   "cell_type": "code",
   "execution_count": 3,
   "metadata": {},
   "outputs": [
    {
     "name": "stdout",
     "output_type": "stream",
     "text": [
      "finished\n"
     ]
    }
   ],
   "source": [
    "data = np.load(\"all/train_images.npy\",encoding='bytes')\n",
    "x = []\n",
    "\n",
    "for image in data:\n",
    "    image = image[1].reshape(100,100)\n",
    "    image = preprocess(image)\n",
    "    image = preProcessImage(image)\n",
    "    image = rmEmpty(image)\n",
    "    image = image.reshape(10000,1)\n",
    "    image = np.squeeze(image)\n",
    "    x.append(image)\n",
    "\n",
    "\n",
    "labels = pd.read_csv(\"all/train_labels.csv\")\n",
    "y = []\n",
    "for i in range(len(labels)):\n",
    "    label = labels['Category'][i]\n",
    "    y.append(label)\n",
    "\n",
    "\n",
    "x_train, x_validation, y_train, y_validation = train_test_split(x, y, test_size = 0.1, random_state=30)\n",
    "\n",
    "x_train_backup = x_train\n",
    "x_validation_backup = x_validation\n",
    "print('finished')"
   ]
  },
  {
   "cell_type": "code",
   "execution_count": 4,
   "metadata": {},
   "outputs": [
    {
     "name": "stdout",
     "output_type": "stream",
     "text": [
      "finished\n"
     ]
    }
   ],
   "source": [
    "#linear SVC\n",
    "f1_yelp_svc = f1_svc(x_train,y_train,x_validation,y_validation,1,1000,0,1e-05)\n",
    "print(\"finished\")"
   ]
  },
  {
   "cell_type": "code",
   "execution_count": null,
   "metadata": {},
   "outputs": [],
   "source": [
    "\n",
    "is_increase = 1\n",
    "test_is = 1\n",
    "f1_yelp_svc_list_is = []\n",
    "is_list = []\n",
    "best_is = 0\n",
    "best_f1_is = 0\n",
    "for i in range(1000):\n",
    "    f1_yelp_svc = f1_svc(x_train,y_train,x_validation,y_validation,test_is,1000,0,1e-05)\n",
    "    f1_yelp_svc_list_is.append(f1_yelp_svc)\n",
    "    is_list.append(test_is)\n",
    "    if(f1_yelp_svc > best_f1_is):\n",
    "        best_f1_is = f1_yelp_svc\n",
    "        best_is = test_is\n",
    "    test_is = test_is + is_increase\n",
    "\n",
    "fig = plt.figure(1,figsize=(20,10))\n",
    "fig.suptitle('Score of SVC over different intercept scaling')\n",
    "plt.plot(is_list,f1_yelp_svc_list_is)\n",
    "plt.xlabel('intercept scaling')\n",
    "plt.ylabel('score')\n",
    "plt.show()\n",
    "print('The best intercept scaling: ',best_is)\n",
    "print('Best score: ',best_f1_is)"
   ]
  },
  {
   "cell_type": "code",
   "execution_count": null,
   "metadata": {},
   "outputs": [],
   "source": [
    "#tune max iteration\n",
    "iteration_increase = 1\n",
    "test_iteration = 1\n",
    "f1_yelp_svc_list_iteration = []\n",
    "iteration_list = []\n",
    "best_iteration = 0\n",
    "best_f1_iteration = 0\n",
    "for i in range(1000):\n",
    "    f1_yelp_svc = f1_svc(x_train,y_train,x_validation,y_validation,best_is,test_iteration,0,1e-05)\n",
    "    f1_yelp_svc_list_iteration.append(f1_yelp_svc)\n",
    "    iteration_list.append(test_iteration)\n",
    "    if(f1_yelp_svc > best_f1_iteration):\n",
    "        best_f1_iteration = f1_yelp_svc\n",
    "        best_iteration = test_iteration\n",
    "    test_iteration = test_iteration + iteration_increase\n",
    "\n",
    "fig = plt.figure(2,figsize=(20,10))\n",
    "fig.suptitle('Score of Decision Tree over different max iteration')\n",
    "plt.plot(iteration_list,f1_yelp_svc_list_iteration)\n",
    "plt.xlabel('max iteration')\n",
    "plt.ylabel('score')\n",
    "plt.show()\n",
    "print('The best max iteration: ',best_iteration)\n",
    "print('Best score: ',best_f1_iteration)"
   ]
  },
  {
   "cell_type": "code",
   "execution_count": null,
   "metadata": {},
   "outputs": [],
   "source": []
  }
 ],
 "metadata": {
  "kernelspec": {
   "display_name": "Python 3",
   "language": "python",
   "name": "python3"
  },
  "language_info": {
   "codemirror_mode": {
    "name": "ipython",
    "version": 3
   },
   "file_extension": ".py",
   "mimetype": "text/x-python",
   "name": "python",
   "nbconvert_exporter": "python",
   "pygments_lexer": "ipython3",
   "version": "3.5.0"
  }
 },
 "nbformat": 4,
 "nbformat_minor": 2
}
